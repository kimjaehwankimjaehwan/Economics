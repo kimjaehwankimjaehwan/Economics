{
  "nbformat": 4,
  "nbformat_minor": 0,
  "metadata": {
    "colab": {
      "provenance": [],
      "authorship_tag": "ABX9TyPY77xyk68dkrNbskH6Xj0l",
      "include_colab_link": true
    },
    "kernelspec": {
      "name": "python3",
      "display_name": "Python 3"
    },
    "language_info": {
      "name": "python"
    }
  },
  "cells": [
    {
      "cell_type": "markdown",
      "metadata": {
        "id": "view-in-github",
        "colab_type": "text"
      },
      "source": [
        "<a href=\"https://colab.research.google.com/github/kimjaehwankimjaehwan/Economics/blob/main/Gross_Domestic_Product%2C_GDP.ipynb\" target=\"_parent\"><img src=\"https://colab.research.google.com/assets/colab-badge.svg\" alt=\"Open In Colab\"/></a>"
      ]
    },
    {
      "cell_type": "markdown",
      "source": [
        "국내총생산(Gross Domestic Product, GDP)은 한 나라의 경제 활동을 측정하는 가장 기본적이고 중요한 지표 중 하나입니다. GDP는 일정 기간 동안 한 국가에서 생산된 모든 재화와 서비스의 총 시장 가치를 의미하며, 경제 성장과 생활 수준을 평가하는 데 중요한 역할을 합니다.\n",
        "\n",
        "GDP는 다양한 방법으로 측정될 수 있지만, 가장 일반적인 방법 중 하나는 지출 접근법입니다. 이 접근법은 경제 내에서 발생하는 모든 지출의 합을 통해 GDP를 계산합니다.\n",
        "\n",
        "1. 지출 접근법의 기본 개념\n",
        "\n",
        "지출 접근법에 따르면, GDP는 한 나라에서 생산된 모든 재화와 서비스에 대한 지출의 합으로 계산됩니다. 이 방법은 다음과 같은 주요 구성 요소들로 이루어집니다:\n",
        "\n",
        "소비 (Consumption, C):\n",
        "\n",
        "개인과 가계가 최종 소비를 위해 지출한 금액입니다.\n",
        "예: 음식, 의류, 의료비, 전자제품 등 일상 생활에서 소비되는 모든 재화와 서비스.\n",
        "투자 (Investment, I):\n",
        "\n",
        "기업과 가계가 자산을 구입하거나 새로운 설비를 설치하기 위해 지출한 금액입니다.\n",
        "예: 공장 건설, 기계 구입, 주택 구매 등.\n",
        "정부 지출 (Government Spending, G):\n",
        "\n",
        "정부가 공공서비스를 제공하기 위해 지출한 금액입니다.\n",
        "예: 국방비, 공무원 급여, 사회복지 지출 등.\n",
        "순수출 (Net Exports, NX = Exports - Imports):\n",
        "\n",
        "순수출은 한 나라에서 생산된 재화와 서비스의 수출액에서 수입액을 뺀 값입니다.\n",
        "예: 자동차, 전자제품의 수출입."
      ],
      "metadata": {
        "id": "IKJXK2nDXDtS"
      }
    },
    {
      "cell_type": "markdown",
      "source": [
        "2. 지출 접근법의 수식\n",
        "지출 접근법에 따른 GDP 계산 공식은 다음과 같습니다:\n",
        "\n",
        "GDP=C+I+G+(X−M)\n",
        "\n",
        " - C: 소비 (Consumption)\n",
        " - I: 투자 (Investment)\n",
        " - G: 정부 지출 (Government Spending)\n",
        " - X: 수출 (Exports)\n",
        " - M: 수입 (Imports)"
      ],
      "metadata": {
        "id": "2MhcjxllXNEm"
      }
    },
    {
      "cell_type": "markdown",
      "source": [
        " - 소비 (Consumption, C)\n",
        "\n",
        "소비(C)는 개인과 가계가 일상 생활에서 소비하는 모든 재화와 서비스에 대한 지출입니다. 이는 경제에서 가장 큰 부분을 차지하는 요소로, 소비가 증가하면 기업의 생산이 증가하고, 이는 고용과 소득 증가로 이어집니다.\n",
        "\n",
        "  - 실제 사례: 대한민국의 소비 (2020년 기준)\n",
        "\n",
        "2020년, 대한민국의 민간 소비 지출은 약 880조 원이었습니다. 이 기간 동안 코로나19 팬데믹의 영향으로 소비가 크게 위축되었지만, 정부의 재난지원금 지급과 같은 정책으로 어느 정도 보완되었습니다.\n",
        "\n",
        "코로나19의 영향: 코로나19로 인해 대면 서비스(예: 음식점, 여행 등)에 대한 소비가 감소했지만, 비대면 서비스(예: 온라인 쇼핑, 배달 서비스)에 대한 소비는 증가했습니다.\n",
        "\n",
        "정부의 대응: 정부는 경기 부양을 위해 재난지원금을 지급했으며, 이로 인해 소비가 일부 회복되었습니다. 이는 소비가 GDP에 미치는 영향이 얼마나 중요한지를 보여줍니다.\n"
      ],
      "metadata": {
        "id": "C754dOS_XbHI"
      }
    },
    {
      "cell_type": "markdown",
      "source": [
        " - 투자 (Investment, I)\n",
        "\n",
        "투자(I)는 기업과 가계가 자산을 구입하거나 새로운 설비를 설치하기 위해 지출한 금액입니다. 이는 경제 성장의 중요한 원천 중 하나입니다. 투자가 증가하면 생산성이 향상되고, 장기적인 경제 성장을 촉진합니다.\n",
        "\n",
        " - 실제 사례: 대한민국의 투자 (2020년 기준)\n",
        "\n",
        "2020년, 대한민국의 총 고정 자본 형성(투자)은 약 470조 원이었습니다. 여기에는\n",
        "건설 투자, 설비 투자, 지식재산 생산물 투자 등이 포함됩니다.\n",
        "\n",
        "건설 투자: 2020년에는 특히 공공 인프라 투자와 주택 건설이 활발했습니다. 이는 정부의 경기 부양 정책의 일환으로, 경기 침체를 방지하기 위한 투자였으며, 경제에 긍정적인 영향을 미쳤습니다.\n",
        "\n",
        "설비 투자: 코로나19로 인해 일부 산업에서의 설비 투자가 감소했지만, 반도체 및 디지털 기술 관련 산업에서는 설비 투자가 크게 증가했습니다. 이는 산업 구조의 변화와 기술 발전에 따라 투자가 경제에 미치는 영향을 보여줍니다.\n"
      ],
      "metadata": {
        "id": "hYjvoidOX8ka"
      }
    },
    {
      "cell_type": "markdown",
      "source": [
        " - 정부 지출 (Government Spending, G)\n",
        "\n",
        "정부 지출(G)은 정부가 공공 서비스 제공, 사회보장, 국방, 인프라 개발 등을 위해 지출하는 금액입니다. 정부 지출은 경제 안정화와 경기 부양에 중요한 역할을 합니다.\n",
        "\n",
        " - 실제 사례: 대한민국의 정부 지출 (2020년 기준)\n",
        "\n",
        "2020년, 대한민국의 정부 지출은 약 450조 원이었습니다. 정부 지출은 코로나19로 인한 경제적 충격을 완화하기 위해 크게 증가했습니다.\n",
        "\n",
        "재난지원금 지급: 정부는 재난지원금을 국민들에게 직접 지급하여 소비를 촉진하고, 경제 회복을 지원했습니다. 이는 정부 지출이 직접적으로 경제 활동에 긍정적인 영향을 미칠 수 있음을 보여줍니다.\n",
        "\n",
        "사회복지 지출: 고령화와 코로나19로 인해 사회복지 지출이 증가했습니다. 이는 경제적 불확실성 속에서 정부 지출이 국민들의 생활 안정에 중요한 역할을 했음을 의미합니다.\n"
      ],
      "metadata": {
        "id": "I4dJGVXCYGB9"
      }
    },
    {
      "cell_type": "markdown",
      "source": [
        " - 순수출 (Net Exports, NX = Exports - Imports)\n",
        "\n",
        "순수출(NX)은 한 나라의 수출에서 수입을 뺀 값입니다. 순수출이 양수이면 그 나라의 GDP에 긍정적으로 기여하며, 음수이면 부정적인 영향을 미칩니다.\n",
        "\n",
        " - 실제 사례: 대한민국의 순수출 (2020년 기준)\n",
        "\n",
        "2020년, 대한민국의 총 수출액은 약 600조 원, 수입액은 약 520조 원이었습니다. 따라서 순수출은 약 80조 원이었습니다.\n",
        "\n",
        "반도체 수출: 대한민국은 세계 최대의 반도체 생산국 중 하나로, 2020년 반도체 수출이 큰 비중을 차지했습니다. 이는 전 세계적인 디지털화 추세와 맞물려 한국 경제에 긍정적인 영향을 미쳤습니다.\n",
        "\n",
        "자동차 수출 감소: 코로나19로 인해 자동차 수출이 감소했으나, 반도체 및 IT 제품의 강력한 수출로 인해 전체 순수출은 긍정적인 결과를 유지했습니다.\n"
      ],
      "metadata": {
        "id": "5jutviloYMy0"
      }
    },
    {
      "cell_type": "markdown",
      "source": [
        " - GDP의 실제 계산 (2020년 대한민국 기준)\n",
        "\n",
        "이제 위에서 언급한 모든 구성 요소를 사용하여 2020년 대한민국의 GDP를 계산해 보겠습니다.\n",
        "\n",
        "- 소비(C): 880조 원\n",
        "- 투자(I): 470조 원\n",
        "- 정부 지출(G): 450조 원\n",
        "- 수출(X): 600조 원\n",
        "- 수입(M): 520조 원\n",
        "\n"
      ],
      "metadata": {
        "id": "BGFWLKXZYTAr"
      }
    },
    {
      "cell_type": "code",
      "execution_count": 1,
      "metadata": {
        "colab": {
          "base_uri": "https://localhost:8080/"
        },
        "id": "mXERFe42W_Da",
        "outputId": "7c01d9b9-c0b4-4850-8064-754c3f0b4f61"
      },
      "outputs": [
        {
          "output_type": "stream",
          "name": "stdout",
          "text": [
            "2020년 대한민국의 GDP는 1880조 원입니다.\n"
          ]
        }
      ],
      "source": [
        "def calculate_gdp(consumption, investment, government_spending, exports, imports):\n",
        "    gdp = consumption + investment + government_spending + (exports - imports)\n",
        "    return gdp\n",
        "\n",
        "# 실제 데이터 (2020년 대한민국 기준, 단위: 조 원)\n",
        "consumption = 880\n",
        "investment = 470\n",
        "government_spending = 450\n",
        "exports = 600\n",
        "imports = 520\n",
        "\n",
        "\n",
        "gdp = calculate_gdp(consumption, investment, government_spending, exports, imports)\n",
        "\n",
        "\n",
        "print(f\"2020년 대한민국의 GDP는 {gdp}조 원입니다.\")\n"
      ]
    }
  ]
}