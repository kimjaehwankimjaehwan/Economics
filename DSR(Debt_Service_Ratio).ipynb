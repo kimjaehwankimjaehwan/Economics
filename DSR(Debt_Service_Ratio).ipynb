{
  "nbformat": 4,
  "nbformat_minor": 0,
  "metadata": {
    "colab": {
      "provenance": [],
      "authorship_tag": "ABX9TyOul/GQpU4hVV84XVRB5Zdv",
      "include_colab_link": true
    },
    "kernelspec": {
      "name": "python3",
      "display_name": "Python 3"
    },
    "language_info": {
      "name": "python"
    }
  },
  "cells": [
    {
      "cell_type": "markdown",
      "metadata": {
        "id": "view-in-github",
        "colab_type": "text"
      },
      "source": [
        "<a href=\"https://colab.research.google.com/github/kimjaehwankimjaehwan/Economics/blob/main/DSR(Debt_Service_Ratio).ipynb\" target=\"_parent\"><img src=\"https://colab.research.google.com/assets/colab-badge.svg\" alt=\"Open In Colab\"/></a>"
      ]
    },
    {
      "cell_type": "markdown",
      "source": [
        "###1. Debt-Service Ratio (DSR)의 정의와 계산\n",
        "\n",
        "Debt-Service Ratio (DSR)는 특정 기간 동안 개인, 기업, 또는 국가의 총 소득 중에서 부채를 상환하는 데 사용되는 비율을 의미합니다. 이는 재무 건전성의 중요한 지표로, 주로 대출 심사, 재정 분석, 신용 평가 등에 사용됩니다.\n",
        "\n",
        "DSR의 계산\n",
        "\n",
        "DSR은 다음과 같은 수식으로 계산됩니다:\n",
        "\n",
        "DSR = (월별 부채 상환액 / 월별 총 소득) × 100\n",
        "\n",
        "예를 들어, 월소득이 500만원이고, 매달 갚아야 하는 부채 상환액이 100만원이라면,\n",
        "\n",
        "DSR은 다음과 같이 계산됩니다:\n",
        "\n",
        "DSR = (1,000,000 / 5,000,000) × 100 = 20%\n",
        "\n",
        "이 경우, 개인의 총 소득 중 20%가 부채 상환에 사용된다는 의미입니다.\n"
      ],
      "metadata": {
        "id": "gtOsBaeYQsyi"
      }
    },
    {
      "cell_type": "markdown",
      "source": [
        "### 2. Stress-Tested Debt-Service Ratio (Stress DSR)\n",
        "\n",
        "Stress DSR는 경제적 스트레스 상황을 고려하여 부채 상환 능력을 평가하는 지표입니다. 이는 대출자가 경제적 어려움에 직면할 때(예: 금리 상승, 소득 감소) 부채 상환이 얼마나 어려워질지를 예측하는 데 사용됩니다.\n",
        "\n",
        "Stress DSR의 계산\n",
        "\n",
        "Stress DSR은 기본적인 DSR 계산에 추가적인 스트레스 조건을 적용하여 계산됩니다. 예를 들어, 금리 인상이나 소득 감소가 예상되는 상황에서 DSR을 다시 계산합니다.\n",
        "\n",
        "예를 들어, 위에서 계산한 DSR 20%의 상황에서 금리가 2% 인상되면 매달 상환액이 100만원에서 120만원으로 증가한다고 가정해봅시다. 이 경우, 새로운 DSR은 다음과 같이 계산됩니다:\n",
        "\n",
        "Stress DSR = (1,200,000 / 5,000,000) × 100 = 24%\n",
        "\n",
        "이 경우, 스트레스 상황에서 DSR이 24%로 상승하게 됩니다. 이는 경제적 스트레스 하에서 부채 상환 부담이 더 커졌음을 나타냅니다.\n"
      ],
      "metadata": {
        "id": "yKYCy8_CQ73M"
      }
    },
    {
      "cell_type": "markdown",
      "source": [
        "###3. 실제 사례\n",
        "\n",
        "1) 개인 금융에서의 DSR 적용\n",
        "\n",
        "은행이 대출을 심사할 때, 개인의 DSR을 분석하여 대출 승인 여부를 결정합니다. 일반적으로, DSR이 40%를 초과하면 추가 대출이 어려워질 수 있습니다.\n",
        "\n",
        "예를 들어, A씨의 월 소득이 500만원이고, 현재 DSR이 35%라면, A씨는 매달 175만원을 부채 상환에 사용하고 있습니다. 만약 A씨가 추가 대출을 받게 되어 DSR이 50%로 상승하면, 금융기관은 이를 부정적으로 평가하고 대출을 거절할 수 있습니다.\n",
        "\n",
        "2) 국가 경제에서의 DSR 적용\n",
        "\n",
        "국가의 DSR은 정부의 부채 관리 능력을 평가하는 중요한 지표입니다.\n",
        "\n",
        "예를 들어, IMF는 1997년 아시아 금융 위기 당시 한국의 높은 DSR을 문제로 지적했습니다. 당시 한국의 DSR은 경제 성장을 뒷받침할 수 있는 수준을 초과하여, 외환 위기와 함께 국가 경제에 큰 부담이 되었습니다. 이는 국가의 재정 건전성이 악화된 사례로, 정부가 감당할 수 없는 수준의 부채를 관리하는 데 실패하면, 경제 전반에 걸쳐 심각한 영향을 미칠 수 있음을 보여줍니다.\n",
        "\n",
        "3) 기업 금융에서의 DSR 적용\n",
        "\n",
        "기업의 DSR은 해당 기업의 부채 상환 능력과 신용 위험을 평가하는 데 사용됩니다.\n",
        "\n",
        "예를 들어, 한 기업이 DSR이 60%에 달한다면, 이는 그 기업이 벌어들이는 소득의 60%를 부채 상환에 사용하고 있다는 의미입니다. 이는 기업이 추가적인 투자나 경영 개선을 위한 자금 여력이 부족함을 시사하며, 이러한 상황에서는 신용등급이 하락할 수 있습니다.\n"
      ],
      "metadata": {
        "id": "KvmTSkrGRDJc"
      }
    },
    {
      "cell_type": "code",
      "execution_count": 1,
      "metadata": {
        "colab": {
          "base_uri": "https://localhost:8080/"
        },
        "id": "bDla7KU0PRd4",
        "outputId": "a53ca7d5-f505-45eb-c9eb-31410705b134"
      },
      "outputs": [
        {
          "output_type": "stream",
          "name": "stdout",
          "text": [
            "개인의 DSR: 35.00%\n",
            "DSR이 안정적입니다.\n"
          ]
        }
      ],
      "source": [
        "def personal_dsr(monthly_income, monthly_debt_payment):\n",
        "    dsr = (monthly_debt_payment / monthly_income) * 100\n",
        "    print(f\"개인의 DSR: {dsr:.2f}%\")\n",
        "    if dsr > 40:\n",
        "        print(\"경고: DSR이 40%를 초과하여 추가 대출이 어려울 수 있습니다.\")\n",
        "    else:\n",
        "        print(\"DSR이 안정적입니다.\")\n",
        "\n",
        "# 예시: 월소득 500만원, 월 부채 상환액 175만원\n",
        "personal_dsr(5000000, 1750000)\n"
      ]
    },
    {
      "cell_type": "code",
      "source": [
        "def national_dsr(gdp, debt_service):\n",
        "    dsr = (debt_service / gdp) * 100\n",
        "    print(f\"국가의 DSR: {dsr:.2f}%\")\n",
        "    if dsr > 60:\n",
        "        print(\"경고: 국가의 DSR이 60%를 초과하여 재정 건전성에 위험이 있을 수 있습니다.\")\n",
        "    else:\n",
        "        print(\"국가의 DSR이 안정적입니다.\")\n",
        "\n",
        "# 예시: GDP 200조 원, 연간 부채 상환액 120조 원\n",
        "national_dsr(200000000000000, 120000000000000)\n"
      ],
      "metadata": {
        "colab": {
          "base_uri": "https://localhost:8080/"
        },
        "id": "tvDqhv5RQoMZ",
        "outputId": "bd7229d4-42c5-491c-df09-cd02dbd8e325"
      },
      "execution_count": 2,
      "outputs": [
        {
          "output_type": "stream",
          "name": "stdout",
          "text": [
            "국가의 DSR: 60.00%\n",
            "국가의 DSR이 안정적입니다.\n"
          ]
        }
      ]
    },
    {
      "cell_type": "code",
      "source": [
        "def corporate_dsr(revenue, debt_service):\n",
        "    dsr = (debt_service / revenue) * 100\n",
        "    print(f\"기업의 DSR: {dsr:.2f}%\")\n",
        "    if dsr > 50:\n",
        "        print(\"경고: 기업의 DSR이 50%를 초과하여 신용등급 하락 위험이 있습니다.\")\n",
        "    else:\n",
        "        print(\"기업의 DSR이 안정적입니다.\")\n",
        "\n",
        "# 예시: 매출 3000억 원, 연간 부채 상환액 1800억 원\n",
        "corporate_dsr(300000000000, 180000000000)\n"
      ],
      "metadata": {
        "colab": {
          "base_uri": "https://localhost:8080/"
        },
        "id": "Q_rrE14dQq62",
        "outputId": "b16afebc-15aa-4991-be3d-d3f49965279c"
      },
      "execution_count": 3,
      "outputs": [
        {
          "output_type": "stream",
          "name": "stdout",
          "text": [
            "기업의 DSR: 60.00%\n",
            "경고: 기업의 DSR이 50%를 초과하여 신용등급 하락 위험이 있습니다.\n"
          ]
        }
      ]
    }
  ]
}