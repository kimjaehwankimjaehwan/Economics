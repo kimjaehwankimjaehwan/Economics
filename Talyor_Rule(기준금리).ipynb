{
  "nbformat": 4,
  "nbformat_minor": 0,
  "metadata": {
    "colab": {
      "provenance": [],
      "authorship_tag": "ABX9TyNINlq2oepGxLxbS7yzXx1p",
      "include_colab_link": true
    },
    "kernelspec": {
      "name": "python3",
      "display_name": "Python 3"
    },
    "language_info": {
      "name": "python"
    }
  },
  "cells": [
    {
      "cell_type": "markdown",
      "metadata": {
        "id": "view-in-github",
        "colab_type": "text"
      },
      "source": [
        "<a href=\"https://colab.research.google.com/github/kimjaehwankimjaehwan/Economics/blob/main/Talyor_Rule(%EA%B8%B0%EC%A4%80%EA%B8%88%EB%A6%AC).ipynb\" target=\"_parent\"><img src=\"https://colab.research.google.com/assets/colab-badge.svg\" alt=\"Open In Colab\"/></a>"
      ]
    },
    {
      "cell_type": "markdown",
      "source": [
        "###Taylor Rule은 경제학에서 중앙은행이 기준금리를 설정할 때 사용하는 가이드라인입니다.\n",
        "\n",
        "  - 기본 개념\n",
        "    - Taylor Rule은 경제학자 John B. Taylor가 1993년에 제안한 규칙입니다.\n",
        "    - 이 규칙은 인플레이션과 경기 활성화 사이의 균형을 유지하기 위해 기준금리를 어떻게 설정해야 하는지를 설명합니다.\n",
        "\n",
        "  - 수식\n",
        "    - Taylor Rule의 기본적인 형태는 다음과 같은 수식으로 표현됩니다:\n",
        "\n",
        "    - 𝑖𝑡 = 𝑟∗ + 𝜋𝑡 + 0.5(𝜋𝑡−𝜋∗) +0.5(𝑦𝑡−𝑦∗)\n",
        "\n",
        "    - 여기서,\n",
        "      - 𝑖𝑡: 목표로 하는 명목 기준금리\n",
        "      - 𝑟∗: 실질 균형 금리 (경제가 완전고용 상태에 있을 때의 실질 금리)\n",
        "      - 𝜋𝑡: 현재 인플레이션율\n",
        "      - 𝜋∗: 목표 인플레이션율\n",
        "      - 𝑦𝑡: 실질 GDP\n",
        "      - 𝑦∗: 잠재 GDP\n",
        "    \n",
        "    - 구성 요소 설명\n",
        "\n",
        "      - 실질 균형 금리 𝑟∗: 경제가 균형 상태에 있을 때의 자연 실질 금리입니다. 이 값은 대개 고정된 값으로 사용됩니다.\n",
        "\n",
        "      - 인플레이션 갭 (𝜋𝑡−𝜋∗): 현재 인플레이션율과 목표 인플레이션율 간의 차이를 나타냅니다. 인플레이션이 목표를 초과할 경우 금리를 인상하여 인플레이션을 억제하려고 합니다.\n",
        "\n",
        "      - 산출 갭 (𝑦𝑡−𝑦∗): 실제 GDP와 잠재 GDP 간의 차이를 나타냅니다. 경제가 과열되었을 때는 금리를 인상하여 경제 성장을 억제하려고 합니다.\n",
        "\n",
        "    - 예시\n",
        "      - 예를 들어, 목표 인플레이션율이 2%이고, 현재 인플레이션율이 3%이며, 실질 GDP가 잠재 GDP보다 1% 높다고 가정합니다.\n",
        "      - 실질 균형 금리 𝑟∗ 가 2%라면, Taylor Rule에 따르면 다음과 같이 금리를 설정할 수 있습니다:\n",
        "        - 𝑖𝑡 = 2% + 3% +0.5(3% − 2%) + 0.5(1%) = 2% + 3% +0.5% + 0.5% =6% 이 경우, 기준금리는 6%로 설정될 것입니다.\n",
        "\n",
        "    - 적용 사례\n",
        "      - 미국 연방준비제도(연준, Fed)는 Taylor Rule을 실제 정책 결정에 참조하는 경우가 많습니다.\n",
        "      - 특히, 2000년대 초반과 2010년대 이후로 Taylor Rule을 활용하여 금리 결정을 분석하고 있습니다.\n",
        "\n",
        "    - 한계점\n",
        "      - Taylor Rule은 경제상황을 단순화한 모델이기 때문에 실제 정책 결정에서 모든 변수를 고려하지 않습니다.\n",
        "      - 특히, 금융시장 불안정성, 비정상적인 경제상황, 외부 충격 등은 이 규칙에 포함되지 않을 수 있습니다."
      ],
      "metadata": {
        "id": "v0KpbimNCVJa"
      }
    },
    {
      "cell_type": "code",
      "source": [
        "!pip install fredapi"
      ],
      "metadata": {
        "colab": {
          "base_uri": "https://localhost:8080/"
        },
        "id": "0YgYWssItOgU",
        "outputId": "06f44803-c736-465b-eb76-745da3717212"
      },
      "execution_count": null,
      "outputs": [
        {
          "output_type": "stream",
          "name": "stdout",
          "text": [
            "Collecting fredapi\n",
            "  Downloading fredapi-0.5.2-py3-none-any.whl.metadata (5.0 kB)\n",
            "Requirement already satisfied: pandas in /usr/local/lib/python3.10/dist-packages (from fredapi) (2.1.4)\n",
            "Requirement already satisfied: numpy<2,>=1.22.4 in /usr/local/lib/python3.10/dist-packages (from pandas->fredapi) (1.26.4)\n",
            "Requirement already satisfied: python-dateutil>=2.8.2 in /usr/local/lib/python3.10/dist-packages (from pandas->fredapi) (2.8.2)\n",
            "Requirement already satisfied: pytz>=2020.1 in /usr/local/lib/python3.10/dist-packages (from pandas->fredapi) (2024.1)\n",
            "Requirement already satisfied: tzdata>=2022.1 in /usr/local/lib/python3.10/dist-packages (from pandas->fredapi) (2024.1)\n",
            "Requirement already satisfied: six>=1.5 in /usr/local/lib/python3.10/dist-packages (from python-dateutil>=2.8.2->pandas->fredapi) (1.16.0)\n",
            "Downloading fredapi-0.5.2-py3-none-any.whl (11 kB)\n",
            "Installing collected packages: fredapi\n",
            "Successfully installed fredapi-0.5.2\n"
          ]
        }
      ]
    },
    {
      "cell_type": "code",
      "execution_count": null,
      "metadata": {
        "colab": {
          "base_uri": "https://localhost:8080/"
        },
        "id": "7MCkPm5mtH2t",
        "outputId": "93008fe9-338e-4966-f267-498a9ceea64c"
      },
      "outputs": [
        {
          "output_type": "stream",
          "name": "stdout",
          "text": [
            "2023-04-01    22225.350\n",
            "2023-07-01    22490.692\n",
            "2023-10-01    22679.255\n",
            "2024-01-01    22758.752\n",
            "2024-04-01    22918.739\n",
            "dtype: float64\n",
            "2024-03-01    312.230\n",
            "2024-04-01    313.207\n",
            "2024-05-01    313.225\n",
            "2024-06-01    313.049\n",
            "2024-07-01    313.534\n",
            "dtype: float64\n",
            "2033-10-01    4.236570\n",
            "2034-01-01    4.230920\n",
            "2034-04-01    4.225190\n",
            "2034-07-01    4.219381\n",
            "2034-10-01    4.213503\n",
            "dtype: float64\n",
            "2024-02-01    122.367\n",
            "2024-03-01    122.782\n",
            "2024-04-01    123.109\n",
            "2024-05-01    123.146\n",
            "2024-06-01    123.243\n",
            "dtype: float64\n"
          ]
        }
      ],
      "source": [
        "import pandas as pd\n",
        "from fredapi import Fred\n",
        "\n",
        "fred = Fred(api_key='apikey')\n",
        "\n",
        "# 실질 GDP 가져오기\n",
        "real_gdp = fred.get_series('GDPC1')\n",
        "\n",
        "# 인플레이션율 가져오기 (CPI를 사용하여 계산)\n",
        "cpi = fred.get_series('CPIAUCSL')\n",
        "\n",
        "print(real_gdp.tail())\n",
        "print(cpi.tail())\n",
        "\n",
        "# 실질 균형 금리 데이터 가져오기 (Laubach-Williams)\n",
        "r_star = fred.get_series('NROU')\n",
        "print(r_star.tail())\n",
        "\n",
        "# 개인소비지출 가져오기\n",
        "pce = fred.get_series('PCEPI')\n",
        "print(pce.tail())"
      ]
    },
    {
      "cell_type": "markdown",
      "source": [
        "## 목표 인플레이션율 계산\n",
        "  - 현재 기준금리"
      ],
      "metadata": {
        "id": "zumCtEjs0W5O"
      }
    },
    {
      "cell_type": "code",
      "source": [
        "# Effective Federal Funds Rate (EFFR) 데이터 가져오기\n",
        "effr = fred.get_series('FEDFUNDS')\n",
        "\n",
        "current_fed_funds_rate = effr.iloc[-1]\n",
        "print(f\"현재 기준금리 (Effective Federal Funds Rate): {current_fed_funds_rate:.2f}%\")"
      ],
      "metadata": {
        "colab": {
          "base_uri": "https://localhost:8080/"
        },
        "id": "8UfeDbjRwb-o",
        "outputId": "258d1478-b0dc-43fe-cc23-49844f4da6b2"
      },
      "execution_count": null,
      "outputs": [
        {
          "output_type": "stream",
          "name": "stdout",
          "text": [
            "현재 기준금리 (Effective Federal Funds Rate): 5.33%\n"
          ]
        }
      ]
    },
    {
      "cell_type": "markdown",
      "source": [
        "  - FRED 실제 데이터 활용"
      ],
      "metadata": {
        "id": "ZblT-_HU1Ecd"
      }
    },
    {
      "cell_type": "markdown",
      "source": [
        "  -"
      ],
      "metadata": {
        "id": "vmiWSeQG16Pl"
      }
    },
    {
      "cell_type": "code",
      "source": [
        "\n",
        "# 실질 균형 금리 (r*) 데이터 가져오기\n",
        "r_star = fred.get_series('NROU')\n",
        "\n",
        "# 실질 GDP 데이터 가져오기\n",
        "real_gdp = fred.get_series('GDPC1')\n",
        "\n",
        "# 잠재 GDP 데이터 가져오기\n",
        "potential_gdp = fred.get_series('GDPPOT')\n",
        "\n",
        "# CPI 데이터 가져오기 (인플레이션율 계산용)\n",
        "cpi = fred.get_series('CPIAUCSL')\n",
        "\n",
        "\n",
        "# 인플레이션율 계산 (연율 기준, 전년 동기 대비)\n",
        "inflation_rate = cpi.pct_change(periods=12) * 100\n",
        "\n",
        "# GDP 성장률 계산 (잠재 GDP는 생략하고 실질 GDP 성장률 사용)\n",
        "gdp_growth_rate = real_gdp.pct_change(periods=4) * 100\n",
        "\n",
        "# 잠재 GDP 성장률\n",
        "potential_gdp_growth_rate = potential_gdp.pct_change(periods=4) * 100\n",
        "\n",
        "current_inflation = inflation_rate.iloc[-1]\n",
        "current_gdp_growth = gdp_growth_rate.iloc[-1]\n",
        "current_r_star = r_star.iloc[-1]\n",
        "potential_gdp_growth = potential_gdp_growth_rate.iloc[-1]\n",
        "\n",
        "\n",
        "print(f'현재 인플레이션율: {current_inflation:.2f}%')\n",
        "print(f'현재 GDP 성장률: {current_gdp_growth:.2f}%')\n",
        "print(f'잠재 GDP 성장률: {potential_gdp_growth:.2f}%')\n",
        "print(f'실질균형금리: {current_r_star:.2f}%')\n"
      ],
      "metadata": {
        "colab": {
          "base_uri": "https://localhost:8080/"
        },
        "id": "dcA3fRKlw4hR",
        "outputId": "8d6bc6bb-9aba-4d2a-91c5-d01cedba576a"
      },
      "execution_count": null,
      "outputs": [
        {
          "output_type": "stream",
          "name": "stdout",
          "text": [
            "현재 인플레이션율: 2.92%\n",
            "현재 GDP 성장률: 3.12%\n",
            "잠재 GDP 성장률: 1.75%\n",
            "실질균형금리: 4.21%\n"
          ]
        }
      ]
    },
    {
      "cell_type": "code",
      "source": [
        "# Effective Federal Funds Rate (EFFR) 데이터 가져오기\n",
        "effr = fred.get_series('FEDFUNDS')\n",
        "\n",
        "current_fed_funds_rate = effr.iloc[-1]\n",
        "\n",
        "nominal_interest_rate_1 = current_fed_funds_rate\n",
        "\n",
        "# Taylor Rule을 이용해 목표 인플레이션율 (pi*) 계산\n",
        "pi_star = 2*(current_r_star - nominal_interest_rate_1) + 3 * current_inflation + current_gdp_growth - potential_gdp_growth\n",
        "\n",
        "print(f\"현재 기준금리 (Effective Federal Funds Rate): {current_fed_funds_rate:.2f}%\")\n",
        "print(f\"목표 인플레이션율 (Taylor Rule에 따른 계산): {pi_star:.2f}%\") # Format the float value pi_star, not the Series"
      ],
      "metadata": {
        "colab": {
          "base_uri": "https://localhost:8080/"
        },
        "id": "a_k3DQ5l6fSD",
        "outputId": "400f9e10-d31c-47ac-fef9-ddc19f34010f"
      },
      "execution_count": null,
      "outputs": [
        {
          "output_type": "stream",
          "name": "stdout",
          "text": [
            "현재 기준금리 (Effective Federal Funds Rate): 5.33%\n",
            "목표 인플레이션율 (Taylor Rule에 따른 계산): 7.91%\n"
          ]
        }
      ]
    },
    {
      "cell_type": "code",
      "source": [
        "# Taylor Rule 계산\n",
        "# Taylor Rule: i_t = r* + pi_t + 0.5(pi_t - pi*) + 0.5(y_t - y^*)\n",
        "# 여기서 y^*는 잠재 GDP로 대체되며, 단순히 실질 GDP 성장률을 사용\n",
        "nominal_interest_rate = current_r_star + current_inflation + 0.5 * (current_inflation - pi_star) + 0.5 * (current_gdp_growth - potential_gdp_growth)\n",
        "\n",
        "\n",
        "print(f\"실질 균형 금리 (r*): {current_r_star:.2f}%\")\n",
        "print(f\"현재 인플레이션율: {current_inflation:.2f}%\")\n",
        "print(f\"현재 GDP 성장률: {current_gdp_growth:.2f}%\")\n",
        "print(f'잠재 GDP 성장률: {potential_gdp_growth:.2f}%')\n",
        "print(f\"Taylor Rule에 따른 기준금리: {nominal_interest_rate:.2f}%\")\n"
      ],
      "metadata": {
        "colab": {
          "base_uri": "https://localhost:8080/"
        },
        "id": "UoljiIIgvOD1",
        "outputId": "49f446dc-c5bd-4a3a-fb13-18bcb4d22add"
      },
      "execution_count": null,
      "outputs": [
        {
          "output_type": "stream",
          "name": "stdout",
          "text": [
            "실질 균형 금리 (r*): 4.21%\n",
            "현재 인플레이션율: 2.92%\n",
            "현재 GDP 성장률: 3.12%\n",
            "잠재 GDP 성장률: 1.75%\n",
            "Taylor Rule에 따른 기준금리: 3.90%\n"
          ]
        }
      ]
    },
    {
      "cell_type": "markdown",
      "source": [
        "## 다양한 목표인플레이션에 따른 Talyor Rule 기준금리"
      ],
      "metadata": {
        "id": "Ryw3SSm300b7"
      }
    },
    {
      "cell_type": "code",
      "source": [
        "\n",
        "# 목표 인플레이션율 시나리오\n",
        "pi_star_scenarios = [2.92, 3.0, 3.5, 4.0, 5.0, 6.0, 7.0, 7.91 , 8.0, 9.0, 10.0, 10.15]  # 목표 인플레이션율 구간 설정\n",
        "\n",
        "# 시나리오별 결과 저장\n",
        "results = []\n",
        "\n",
        "# 시나리오별 Taylor Rule에 따른 기준금리 계산\n",
        "for pi_star in pi_star_scenarios:\n",
        "    nominal_interest_rate = current_r_star + current_inflation + 0.5 * (current_inflation - pi_star) + 0.5 * (current_gdp_growth - potential_gdp_growth)\n",
        "    results.append({\n",
        "        \"목표 인플레이션율 (%)\": pi_star,\n",
        "        \"Taylor Rule에 따른 기준금리 (%)\": round(nominal_interest_rate, 2)\n",
        "    })\n",
        "\n",
        "for result in results:\n",
        "    print(f\"목표 인플레이션율: {result['목표 인플레이션율 (%)']}%, Taylor Rule에 따른 기준금리: {result['Taylor Rule에 따른 기준금리 (%)']}%\")\n"
      ],
      "metadata": {
        "colab": {
          "base_uri": "https://localhost:8080/"
        },
        "id": "UzOKLXhGvw0r",
        "outputId": "6cf7e8e9-bf1f-476d-af6a-63b468532bc6"
      },
      "execution_count": null,
      "outputs": [
        {
          "output_type": "stream",
          "name": "stdout",
          "text": [
            "목표 인플레이션율: 2.92%, Taylor Rule에 따른 기준금리: 7.82%\n",
            "목표 인플레이션율: 3.0%, Taylor Rule에 따른 기준금리: 7.78%\n",
            "목표 인플레이션율: 3.5%, Taylor Rule에 따른 기준금리: 7.53%\n",
            "목표 인플레이션율: 4.0%, Taylor Rule에 따른 기준금리: 7.28%\n",
            "목표 인플레이션율: 5.0%, Taylor Rule에 따른 기준금리: 6.78%\n",
            "목표 인플레이션율: 6.0%, Taylor Rule에 따른 기준금리: 6.28%\n",
            "목표 인플레이션율: 7.0%, Taylor Rule에 따른 기준금리: 5.78%\n",
            "목표 인플레이션율: 7.91%, Taylor Rule에 따른 기준금리: 5.33%\n",
            "목표 인플레이션율: 8.0%, Taylor Rule에 따른 기준금리: 5.28%\n",
            "목표 인플레이션율: 9.0%, Taylor Rule에 따른 기준금리: 4.78%\n",
            "목표 인플레이션율: 10.0%, Taylor Rule에 따른 기준금리: 4.28%\n",
            "목표 인플레이션율: 10.15%, Taylor Rule에 따른 기준금리: 4.21%\n"
          ]
        }
      ]
    },
    {
      "cell_type": "markdown",
      "source": [
        "#### **테일러 룰에 따르면 현재 인플레이션(2.92%) 상황에서는 Fed는 기준금리를 7.82% 까지 올려야 되지만 Fed가 실제로 설정한 목표금리는 훨씬 낮은 기준금리(5.33%)를 채택하고 있는 것을 확인할 수 있다. 단순히 테일러 룰 뿐만아니라 다른 여러 경제 요인을 고려한 것을 알수 있습니다.**"
      ],
      "metadata": {
        "id": "mjuwSSdC1Sny"
      }
    },
    {
      "cell_type": "markdown",
      "source": [
        "### 미국의 기준금리를 결정하는 기구는 연방준비제도이사회 입니다.(Federal Reserve Board, 흔히 \"Fed\"라고 불림)\n",
        "연방준비제도이사회는 미국의 중앙은행 역할을 하며, 기준금리를 결정하는 주체입니다.\n",
        "\n",
        "####세부적으로, 기준금리 결정 과정은 다음과 같습니다:\n",
        "1. 연방공개시장위원회 (FOMC, Federal Open Market Committee):\n",
        "\n",
        "  - 연방준비제도이사회의 핵심 정책결정 기구입니다.\n",
        "  - FOMC는 미국의 통화정책을 설정하고 조정하는 역할을 합니다.\n",
        "  - FOMC는 연방기금금리(Effective Federal Funds Rate) 목표 범위를 설정합니다. 이 금리가 흔히 \"기준금리\"로 알려져 있습니다.\n",
        "2. FOMC의 구성:\n",
        "\n",
        "  - FOMC는 총 12명으로 구성됩니다.\n",
        "  - 7명의 연방준비제도 이사회(Board of Governors) 위원과 뉴욕 연방준비은행 총재가 상시적으로 참석합니다.\n",
        "  - 나머지 4명의 자리에는 11개의 지역 연방준비은행 중에서 돌아가며 총재들이 참석합니다.\n",
        "\n",
        "3. 회의와 결정:\n",
        "\n",
        "  - FOMC는 매년 8차례 정기적으로 회의를 열며, 필요시 추가 회의를 소집할 수도 있습니다.\n",
        "  - 이 회의에서 경제 상황에 대한 평가를 바탕으로 금리 결정을 내립니다.\n",
        "\n",
        "4. 목표:\n",
        "\n",
        "  - FOMC는 물가 안정과 최대 고용을 목표로 금리를 조정합니다. 이를 통해 경제의 균형을 유지하려고 합니다.\n",
        "  - 따라서, 미국의 기준금리는 연방준비제도이사회(Fed)의 연방공개시장위원회(FOMC)에 의해 결정됩니다."
      ],
      "metadata": {
        "id": "vG28aDE4FKZ9"
      }
    }
  ]
}